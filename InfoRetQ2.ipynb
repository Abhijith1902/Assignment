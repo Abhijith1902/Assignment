{
 "cells": [
  {
   "cell_type": "code",
   "execution_count": 1,
   "id": "2af3b789",
   "metadata": {},
   "outputs": [
    {
     "name": "stderr",
     "output_type": "stream",
     "text": [
      "[nltk_data] Downloading package wordnet to\n",
      "[nltk_data]     C:\\Users\\Dell\\AppData\\Roaming\\nltk_data...\n",
      "[nltk_data]   Package wordnet is already up-to-date!\n"
     ]
    }
   ],
   "source": [
    "import nltk\n",
    "nltk.download('wordnet')\n",
    "import re\n",
    "import string\n",
    "from nltk.stem.wordnet import WordNetLemmatizer\n",
    "lem = WordNetLemmatizer()\n",
    "tokenizer = nltk.tokenize.TreebankWordTokenizer()"
   ]
  },
  {
   "cell_type": "code",
   "execution_count": 2,
   "id": "f3f70ac8",
   "metadata": {},
   "outputs": [],
   "source": [
    "doc1= (r\"C:\\Users\\Dell\\Desktop\\Stars.txt\")\n",
    "doc2= (r\"C:\\Users\\Dell\\Desktop\\Galaxy.txt\")\n",
    "doc3= (r\"C:\\Users\\Dell\\Desktop\\Black Holes.txt\")"
   ]
  },
  {
   "cell_type": "code",
   "execution_count": 3,
   "id": "ff464e78",
   "metadata": {},
   "outputs": [],
   "source": [
    "def clean_text(text):\n",
    "    text = text.lower()\n",
    "    text = re.sub('\\[.*?\\]', '', text)\n",
    "    text = re.sub('<.*?>+', '', text)\n",
    "    text = re.sub('[%s]' % re.escape(string.punctuation), '', text)\n",
    "    text = re.sub('\\n', '', text)\n",
    "    text = re.sub('\\w*\\d\\w*', '', text)\n",
    "    tokens = tokenizer.tokenize(text)\n",
    "    text=\" \".join(lem.lemmatize(token) for token in tokens)\n",
    "    return text"
   ]
  },
  {
   "cell_type": "code",
   "execution_count": 5,
   "id": "ebeadcda",
   "metadata": {},
   "outputs": [
    {
     "name": "stdout",
     "output_type": "stream",
     "text": [
      "['C:\\\\Users\\\\Dell\\\\Desktop\\\\Stars.txt', 'C:\\\\Users\\\\Dell\\\\Desktop\\\\Galaxy.txt', 'C:\\\\Users\\\\Dell\\\\Desktop\\\\Black Holes.txt']\n"
     ]
    }
   ],
   "source": [
    "Docs =[doc1,doc2,doc3]\n",
    "print(Docs)"
   ]
  },
  {
   "cell_type": "code",
   "execution_count": 6,
   "id": "5ecb34ef",
   "metadata": {},
   "outputs": [],
   "source": [
    "tokens = []\n",
    "for word in doc1.lower().split():\n",
    "    if word not in tokens:\n",
    "        tokens.append(word)\n",
    "for word in doc2.lower().split():\n",
    "    if word not in tokens:\n",
    "        tokens.append(word)\n",
    "for word in doc3.lower().split():\n",
    "    if word not in tokens:\n",
    "        tokens.append(word)"
   ]
  },
  {
   "cell_type": "code",
   "execution_count": 7,
   "id": "4a947191",
   "metadata": {},
   "outputs": [],
   "source": [
    "inverted_index = {}"
   ]
  },
  {
   "cell_type": "code",
   "execution_count": 8,
   "id": "beb19a89",
   "metadata": {},
   "outputs": [
    {
     "data": {
      "text/plain": [
       "[(1, 'C:\\\\Users\\\\Dell\\\\Desktop\\\\Stars.txt'),\n",
       " (2, 'C:\\\\Users\\\\Dell\\\\Desktop\\\\Galaxy.txt'),\n",
       " (3, 'C:\\\\Users\\\\Dell\\\\Desktop\\\\Black Holes.txt')]"
      ]
     },
     "execution_count": 8,
     "metadata": {},
     "output_type": "execute_result"
    }
   ],
   "source": [
    "list(enumerate(Docs,1))"
   ]
  },
  {
   "cell_type": "code",
   "execution_count": 9,
   "id": "15dc7d04",
   "metadata": {},
   "outputs": [],
   "source": [
    "for i, a in enumerate(Docs,1):\n",
    "    for term in a.split():\n",
    "        if term in inverted_index:\n",
    "            inverted_index[term].add(i)\n",
    "        else:\n",
    "            inverted_index[term] = {i}"
   ]
  },
  {
   "cell_type": "code",
   "execution_count": 10,
   "id": "c91c53ed",
   "metadata": {},
   "outputs": [
    {
     "data": {
      "text/plain": [
       "{'C:\\\\Users\\\\Dell\\\\Desktop\\\\Stars.txt': {1},\n",
       " 'C:\\\\Users\\\\Dell\\\\Desktop\\\\Galaxy.txt': {2},\n",
       " 'C:\\\\Users\\\\Dell\\\\Desktop\\\\Black': {3},\n",
       " 'Holes.txt': {3}}"
      ]
     },
     "execution_count": 10,
     "metadata": {},
     "output_type": "execute_result"
    }
   ],
   "source": [
    "inverted_index"
   ]
  },
  {
   "cell_type": "code",
   "execution_count": null,
   "id": "16d22dac",
   "metadata": {},
   "outputs": [],
   "source": [
    "term=input(\"Enter the word: \")\n",
    "posting_list = inverted_index[term]\n",
    "print(posting_list)"
   ]
  },
  {
   "cell_type": "code",
   "execution_count": null,
   "id": "79d70ff4",
   "metadata": {},
   "outputs": [],
   "source": []
  },
  {
   "cell_type": "code",
   "execution_count": null,
   "id": "336e3014",
   "metadata": {},
   "outputs": [],
   "source": []
  }
 ],
 "metadata": {
  "kernelspec": {
   "display_name": "Python 3 (ipykernel)",
   "language": "python",
   "name": "python3"
  },
  "language_info": {
   "codemirror_mode": {
    "name": "ipython",
    "version": 3
   },
   "file_extension": ".py",
   "mimetype": "text/x-python",
   "name": "python",
   "nbconvert_exporter": "python",
   "pygments_lexer": "ipython3",
   "version": "3.9.12"
  }
 },
 "nbformat": 4,
 "nbformat_minor": 5
}
